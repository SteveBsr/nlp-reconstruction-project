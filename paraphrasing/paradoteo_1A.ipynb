{
 "cells": [
  {
   "cell_type": "code",
   "execution_count": 1,
   "id": "d50e8af5",
   "metadata": {},
   "outputs": [
    {
     "name": "stderr",
     "output_type": "stream",
     "text": [
      "c:\\Users\\KYRIAKOS\\AppData\\Local\\pypoetry\\Cache\\virtualenvs\\nlp-reconstruction-project-2fGmCwJv-py3.12\\Lib\\site-packages\\tqdm\\auto.py:21: TqdmWarning: IProgress not found. Please update jupyter and ipywidgets. See https://ipywidgets.readthedocs.io/en/stable/user_install.html\n",
      "  from .autonotebook import tqdm as notebook_tqdm\n",
      "You are using the default legacy behaviour of the <class 'transformers.models.t5.tokenization_t5.T5Tokenizer'>. This is expected, and simply means that the `legacy` (previous) behavior will be used so nothing changes for you. If you want to use the new behaviour, set `legacy=False`. This should only be set if you understand what it means, and thoroughly read the reason why this was added as explained in https://github.com/huggingface/transformers/pull/24565\n",
      "Device set to use cuda:0\n"
     ]
    },
    {
     "name": "stdout",
     "output_type": "stream",
     "text": [
      "Αρχικές προτάσεις:\n",
      "\n",
      "1: Today is our dragon boat festival, in our Chinese culture, to celebrate it with all safe and great in our lives.\n",
      "2: I am very appreciated the full support of the professor, for our Springer proceedings publication.\n",
      "\n",
      "Παράφραση:\n",
      "\n"
     ]
    },
    {
     "name": "stderr",
     "output_type": "stream",
     "text": [
      "Both `max_new_tokens` (=256) and `max_length`(=100) seem to have been set. `max_new_tokens` will take precedence. Please refer to the documentation for more information. (https://huggingface.co/docs/transformers/main/en/main_classes/text_generation)\n",
      "Both `max_new_tokens` (=256) and `max_length`(=100) seem to have been set. `max_new_tokens` will take precedence. Please refer to the documentation for more information. (https://huggingface.co/docs/transformers/main/en/main_classes/text_generation)\n"
     ]
    },
    {
     "name": "stdout",
     "output_type": "stream",
     "text": [
      "1: Today is our dragon boat festival in our Chinese culture to celebrate it with all safe and great in our lives.\n",
      "2: I am very grateful for the full support of the professor for the publication of our Springer proceedings .\n"
     ]
    }
   ],
   "source": [
    "from transformers import pipeline\n",
    "\n",
    "#Φτιάχνουμε pipeline για παράφραση με μοντέλο t5-basse\n",
    "paraphraser = pipeline(\"text2text-generation\", model=\"Vamsi/T5_Paraphrase_Paws\", device=0)\n",
    "\n",
    "# Διαλέγουμε 2 προτάσεις από το Κείμενο 1\n",
    "sentences = [\n",
    "    \"Today is our dragon boat festival, in our Chinese culture, to celebrate it with all safe and great in our lives.\",\n",
    "    \"I am very appreciated the full support of the professor, for our Springer proceedings publication.\"\n",
    "]\n",
    "\n",
    "print(\"Αρχικές προτάσεις:\\n\")\n",
    "for i, sent in enumerate(sentences, 1):\n",
    "    print(f\"{i}: {sent}\")\n",
    "\n",
    "print(\"\\nΠαράφραση:\\n\")\n",
    "for i, sent in enumerate(sentences, 1):\n",
    "    result = paraphraser(f\"paraphrase: {sent} </s>\", max_length=100, num_return_sequences=1)\n",
    "    print(f\"{i}: {result[0]['generated_text']}\")\n",
    "\n"
   ]
  }
 ],
 "metadata": {
  "kernelspec": {
   "display_name": "nlp-reconstruction-project-2fGmCwJv-py3.12",
   "language": "python",
   "name": "python3"
  },
  "language_info": {
   "codemirror_mode": {
    "name": "ipython",
    "version": 3
   },
   "file_extension": ".py",
   "mimetype": "text/x-python",
   "name": "python",
   "nbconvert_exporter": "python",
   "pygments_lexer": "ipython3",
   "version": "3.12.3"
  }
 },
 "nbformat": 4,
 "nbformat_minor": 5
}
